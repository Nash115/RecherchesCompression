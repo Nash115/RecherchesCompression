{
 "cells": [
  {
   "cell_type": "code",
   "execution_count": 2,
   "metadata": {},
   "outputs": [],
   "source": [
    "# Génération de fichiers\n",
    "\n",
    "from random import randint\n",
    "\n",
    "def generateFiles():\n",
    "    car = \"ABCDEFGHIJKLMNOPQRSTUVWXYZabcdefghijklmnopqrstuvwxyz0123456789.?!:*/-_=()[]{}çéèà'\"\n",
    "    for nbFile in range(10):\n",
    "        with open(\"files/file\" + str(nbFile+1) + \".txt\",\"w\",encoding=\"utf8\") as file:\n",
    "            for i in range(100000):\n",
    "                file.write(car[randint(0,len(car)-1)])\n",
    "    with open(\"files/file0.txt\",\"w\",encoding=\"utf8\") as file:\n",
    "        for i in range(1000):\n",
    "            file.write(\"a\")\n",
    "\n",
    "generateFiles()\n",
    "            "
   ]
  },
  {
   "cell_type": "code",
   "execution_count": 3,
   "metadata": {},
   "outputs": [],
   "source": [
    "# Ecriture du temps\n",
    "\n",
    "from random import randint\n",
    "import csv\n",
    "import zipfile\n",
    "import time\n",
    "\n",
    "listePourCSV = []\n",
    "levelCompression = 9\n",
    "\n",
    "# Type, Compression, TempsMoyen, TailleInitiale, TailleFinale\n",
    "# [{\"\"}]\n",
    "\n",
    "def moyenne(tab):\n",
    "    s = 0\n",
    "    for i in tab:\n",
    "        s += i\n",
    "    return s/len(tab)\n",
    "\n",
    "for nbFile in range(11):\n",
    "    times = []\n",
    "    for i in range(10):\n",
    "        start_time = time.perf_counter()\n",
    "        with zipfile.ZipFile(\"files/compressed/file\"+ str(nbFile) + \".zip\", \"w\", compression=zipfile.ZIP_DEFLATED) as zip_file:\n",
    "            zip_file.write(\"files/file\" + str(nbFile) + \".txt\", compresslevel=levelCompression)\n",
    "        end_time = time.perf_counter()\n",
    "        elapsed_time = end_time - start_time\n",
    "        times.append(elapsed_time*1000)\n",
    "    moyenneTemps = moyenne(times)\n",
    "    listePourCSV.append({\"Type\":nbFile, \"Compression\":levelCompression, \"TempsMoyen\":moyenneTemps})\n",
    "\n",
    "with open(\"temps.csv\", \"w\", encoding=\"utf8\") as f:\n",
    "    w = csv.DictWriter(f,[\"Type\",\"Compression\",\"TempsMoyen\"])\n",
    "    w.writeheader()\n",
    "    w.writerows(listePourCSV)"
   ]
  }
 ],
 "metadata": {
  "kernelspec": {
   "display_name": "Python 3",
   "language": "python",
   "name": "python3"
  },
  "language_info": {
   "codemirror_mode": {
    "name": "ipython",
    "version": 3
   },
   "file_extension": ".py",
   "mimetype": "text/x-python",
   "name": "python",
   "nbconvert_exporter": "python",
   "pygments_lexer": "ipython3",
   "version": "3.11.1"
  },
  "orig_nbformat": 4
 },
 "nbformat": 4,
 "nbformat_minor": 2
}

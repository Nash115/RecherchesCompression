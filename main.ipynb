{
 "cells": [
  {
   "cell_type": "code",
   "execution_count": 5,
   "metadata": {},
   "outputs": [],
   "source": [
    "# Génération de fichiers\n",
    "\n",
    "from random import randint\n",
    "\n",
    "def generateFiles():\n",
    "    car = \"ABCDEFGHIJKLMNOPQRSTUVWXYZabcdefghijklmnopqrstuvwxyz0123456789.?!:*/-_=()[]{}çéèà'\"\n",
    "    for nbFile in range(10):\n",
    "        with open(\"files/file\" + str(nbFile+1) + \".txt\",\"w\",encoding=\"utf8\") as file:\n",
    "            for i in range(1000):\n",
    "                file.write(car[randint(0,len(car)-1)])\n",
    "    with open(\"files/file0.txt\",\"w\",encoding=\"utf8\") as file:\n",
    "        for i in range(1000):\n",
    "            file.write(\"a\")\n",
    "\n",
    "generateFiles()\n",
    "            "
   ]
  },
  {
   "cell_type": "code",
   "execution_count": null,
   "metadata": {},
   "outputs": [],
   "source": [
    "# Ecriture du temps\n",
    "\n",
    "def writeTime(t,n):\n",
    "    return"
   ]
  }
 ],
 "metadata": {
  "kernelspec": {
   "display_name": "Python 3",
   "language": "python",
   "name": "python3"
  },
  "language_info": {
   "codemirror_mode": {
    "name": "ipython",
    "version": 3
   },
   "file_extension": ".py",
   "mimetype": "text/x-python",
   "name": "python",
   "nbconvert_exporter": "python",
   "pygments_lexer": "ipython3",
   "version": "3.11.1"
  },
  "orig_nbformat": 4
 },
 "nbformat": 4,
 "nbformat_minor": 2
}
